{
 "cells": [
  {
   "cell_type": "code",
   "execution_count": null,
   "metadata": {},
   "outputs": [],
   "source": [
    "import pandas as pd\n",
    "cpi = pd.read_csv('../usdata/CPIAUCSL.csv')\n",
    "infl = pd.read_csv('../usdata/Inflation forecast.csv')\n",
    "ppi = pd.read_csv('../usdata/PPI all commodities.csv')\n",
    "gdp = pd.read_csv('../usdata/GDP.csv')\n",
    "int_rate = pd.read_csv('../usdata/3 months interest rate.csv')\n",
    "consumer_conf = pd.read_csv('../usdata/composite consumer confidence.csv')\n",
    "unm_rate = pd.read_csv('../usdata/UNRATE.csv')\n",
    "# pd.merge(fund_monthly_returns, portfolio_num, on='crsp_fundno', how='inner')\n",
    "gdp['gdp_pct_change'] = gdp['GDP'].pct_change() * 100  # Convert to percentage\n",
    "dfs = [cpi, infl, ppi, gdp, int_rate, consumer_conf, unm_rate]\n",
    "for df in dfs:\n",
    "    df.ffill(inplace=True)\n",
    "# Merge all dataframes on 'observation_date'\n",
    "combined_df = cpi\n",
    "dfs_to_merge = [infl, ppi, gdp, int_rate, consumer_conf, unm_rate]\n",
    "\n",
    "# Loop through and merge\n",
    "for df in dfs_to_merge:\n",
    "    combined_df = pd.merge(combined_df, df, on='observation_date', how='left')\n",
    "\n",
    "combined_df.ffill(inplace=True)\n",
    "combined_df = combined_df.dropna()\n",
    "combined_df['infl_rate'] = combined_df['CPIAUCSL'].pct_change()\n",
    "combined_df = combined_df.rename(columns = {'observation_date':'date'})\n",
    "combined_df = combined_df.set_index('date')\n",
    "combined_df = combined_df.rename(columns={'T5YIFR':'infl_5y_forecast',\n",
    "                                  'PPIACO':'ppi',\n",
    "                                  'IR3TIB01USM156N':'int_3m',\n",
    "                                  'CSCICP03USM665S':'cons_conf',\n",
    "                                  'UNRATE':'unm_rate'})\n",
    "combined_df_final = combined_df[['infl_rate','ppi','gdp_pct_change','int_3m','cons_conf','unm_rate']].dropna()\n",
    "combined_df_final\n",
    "combined_df_final.to_csv('us_infl_final.csv')"
   ]
  }
 ],
 "metadata": {
  "kernelspec": {
   "display_name": "Python 3",
   "language": "python",
   "name": "python3"
  },
  "language_info": {
   "codemirror_mode": {
    "name": "ipython",
    "version": 3
   },
   "file_extension": ".py",
   "mimetype": "text/x-python",
   "name": "python",
   "nbconvert_exporter": "python",
   "pygments_lexer": "ipython3",
   "version": "3.10.11"
  }
 },
 "nbformat": 4,
 "nbformat_minor": 2
}
