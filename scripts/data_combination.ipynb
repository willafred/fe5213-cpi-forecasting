{
 "cells": [
  {
   "cell_type": "code",
   "execution_count": 29,
   "metadata": {},
   "outputs": [],
   "source": [
    "import pandas as pd\n",
    "cpi = pd.read_csv('../data/US_data/CPIAUCSL.csv')\n",
    "infl = pd.read_csv('../data/US_data/Inflation forecast.csv')\n",
    "ppi = pd.read_csv('../data/US_data/PPI all commodities.csv')\n",
    "gdp = pd.read_csv('../data/US_data/GDP.csv')\n",
    "int_rate = pd.read_csv('../data/US_data/3 months interest rate.csv')\n",
    "consumer_conf = pd.read_csv('../data/US_data/composite consumer confidence.csv')\n",
    "unm_rate = pd.read_csv('../data/US_data/UNRATE.csv')\n",
    "# pd.merge(fund_monthly_returns, portfolio_num, on='crsp_fundno', how='inner')\n",
    "gdp['gdp_pct_change'] = gdp['GDP'].pct_change() * 100  # Convert to percentage\n",
    "dfs = [cpi, infl, ppi, gdp, int_rate, consumer_conf, unm_rate]\n",
    "for df in dfs:\n",
    "    df.ffill(inplace=True)\n",
    "# Merge all dataframes on 'observation_date'\n",
    "combined_df = cpi\n",
    "dfs_to_merge = [infl, ppi, gdp, int_rate, consumer_conf, unm_rate]\n",
    "\n",
    "# Loop through and merge\n",
    "for df in dfs_to_merge:\n",
    "    combined_df = pd.merge(combined_df, df, on='observation_date', how='left')\n",
    "\n",
    "combined_df.ffill(inplace=True)\n",
    "combined_df = combined_df.dropna()\n",
    "combined_df['infl_rate'] = combined_df['CPIAUCSL'].pct_change()\n",
    "combined_df = combined_df.rename(columns = {'observation_date':'date'})\n",
    "combined_df = combined_df.set_index('date')\n",
    "combined_df = combined_df.rename(columns={'T5YIFR':'infl_5y_forecast',\n",
    "                                  'PPIACO':'ppi',\n",
    "                                  'IR3TIB01USM156N':'int_3m',\n",
    "                                  'CSCICP03USM665S':'cons_conf',\n",
    "                                  'UNRATE':'unm_rate'})\n",
    "combined_df_final = combined_df[['infl_rate','ppi','gdp_pct_change','int_3m','cons_conf','unm_rate']].dropna()\n",
    "combined_df_final\n",
    "combined_df_final.to_csv('../data/US_consolidated_df.csv')"
   ]
  },
  {
   "cell_type": "code",
   "execution_count": 30,
   "metadata": {},
   "outputs": [
    {
     "name": "stderr",
     "output_type": "stream",
     "text": [
      "C:\\Users\\Justin\\AppData\\Local\\Temp\\ipykernel_9020\\2914553986.py:14: UserWarning: Could not infer format, so each element will be parsed individually, falling back to `dateutil`. To ensure parsing is consistent and as-expected, please specify a format.\n",
      "  gdp['observation_date'] = pd.to_datetime(gdp['observation_date'])\n"
     ]
    }
   ],
   "source": [
    "import pandas as pd\n",
    "\n",
    "cpi = pd.read_csv('../data/UK_data/CPI.csv')\n",
    "cpi['observation_date'] = pd.to_datetime(cpi['observation_date'], format='%Y-%m-%d')\n",
    "ppi = pd.read_csv('../data/UK_data/PPI.csv')\n",
    "ppi['observation_date'] = pd.to_datetime(ppi['observation_date'], format='%Y-%m-%d')\n",
    "int_rate = pd.read_csv('../data/UK_data/3mth Interest Rate.csv')\n",
    "int_rate['observation_date'] = pd.to_datetime(int_rate['observation_date'], format='%Y-%m-%d')\n",
    "\n",
    "gdp_headers = pd.read_csv('../data/UK_data/Gross GDP Mkt prices.csv', nrows=1).columns\n",
    "gdp = pd.read_csv('../data/UK_data/Gross GDP Mkt prices.csv', skiprows=85, names = gdp_headers, header = None)\n",
    "gdp = gdp.rename(columns={'Title': 'observation_date'})\n",
    "gdp['observation_date'] = gdp['observation_date'].str.replace(\" \", \"-\", regex=False)\n",
    "gdp['observation_date'] = pd.to_datetime(gdp['observation_date'])\n",
    "\n",
    "columns_to_keep = ['TIME_PERIOD','OBS_VALUE']\n",
    "consumer_conf = pd.read_csv('../data/UK_data/Composite Consumer Confidence.csv')\n",
    "consumer_conf = consumer_conf[columns_to_keep]\n",
    "consumer_conf = consumer_conf.rename(columns={'TIME_PERIOD': 'observation_date', 'OBS_VALUE': 'cons_conf'})\n",
    "consumer_conf['observation_date'] = pd.to_datetime(consumer_conf['observation_date'], format='%Y-%m')\n",
    "\n",
    "unm_rate = pd.read_csv('../data/UK_data/Unemployment rates (15 year old plus).csv')\n",
    "unm_rate = unm_rate[columns_to_keep]\n",
    "unm_rate = unm_rate.rename(columns={'TIME_PERIOD': 'observation_date', 'OBS_VALUE': 'unm_rate'})\n",
    "unm_rate['observation_date'] = pd.to_datetime(unm_rate['observation_date'], format='%Y-%m')\n",
    "\n",
    "\n",
    "# pd.merge(fund_monthly_returns, portfolio_num, on='crsp_fundno', how='inner')\n",
    "gdp['gdp_pct_change'] = gdp['Gross Domestic Product at market prices: Current price: Seasonally adjusted £m'].pct_change() * 100  # Convert to percentage\n",
    "dfs = [cpi, ppi, gdp, int_rate, consumer_conf, unm_rate]\n",
    "for df in dfs:\n",
    "    df.ffill(inplace=True)\n",
    "# Merge all dataframes on 'observation_date'\n",
    "combined_df = cpi\n",
    "dfs_to_merge = [ppi, gdp, int_rate, consumer_conf, unm_rate]\n",
    "\n",
    "# Loop through and merge\n",
    "for df in dfs_to_merge:\n",
    "    combined_df = pd.merge(combined_df, df, on='observation_date', how='left')\n",
    "\n",
    "combined_df.ffill(inplace=True)\n",
    "combined_df = combined_df.dropna()\n",
    "\n",
    "combined_df = combined_df.rename(columns = {'observation_date':'date'})\n",
    "combined_df = combined_df.set_index('date')\n",
    "combined_df = combined_df.rename(columns={'GBRCPIALLMINMEI': 'cpi',\n",
    "                                  'GBRPPDMMINMEI':'ppi',\n",
    "                                  'IR3TIB01GBM156N':'int_3m'})\n",
    "combined_df_final = combined_df[['cpi','ppi','gdp_pct_change','int_3m','cons_conf','unm_rate']].dropna()\n",
    "combined_df_final\n",
    "combined_df_final.to_csv('../data/UK_consolidated_df.csv')"
   ]
  }
 ],
 "metadata": {
  "kernelspec": {
   "display_name": "sandbox",
   "language": "python",
   "name": "python3"
  },
  "language_info": {
   "codemirror_mode": {
    "name": "ipython",
    "version": 3
   },
   "file_extension": ".py",
   "mimetype": "text/x-python",
   "name": "python",
   "nbconvert_exporter": "python",
   "pygments_lexer": "ipython3",
   "version": "3.12.9"
  }
 },
 "nbformat": 4,
 "nbformat_minor": 2
}
